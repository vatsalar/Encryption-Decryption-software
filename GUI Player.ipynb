{
 "cells": [
  {
   "cell_type": "code",
   "execution_count": null,
   "metadata": {},
   "outputs": [],
   "source": [
    "from tkinter import *\n",
    "import tkinter as tk\n",
    "from tkinter.ttk import *\n",
    "from player import*\n",
    "from playImage import *\n",
    "# creates a Tk() object\n",
    "master = Tk()\n",
    " \n",
    "# sets the geometry of main\n",
    "# root window\n",
    "master.geometry(\"500x500\")\n",
    " \n",
    "master.configure(bg='black') \n",
    "# function to open a new window\n",
    "# on a button click\n",
    "\n",
    "style=ttk.Style()\n",
    "style.configure(\"BW.TLabel\",height=100,width=40,background=\"#ffffb3\",foreground=\"#ff0066\",anchor='center',padx=10,pady=10,font=(\"Arial\",12))\n",
    "\n",
    "style1=ttk.Style()\n",
    "style1.configure(\"BL.TLabel\",height=600,width=40,background=\"#ffff00\",foreground=\"#6600cc\",anchor='center',padx=10,pady=10,font=(\"Arial\",20))\n",
    "\n",
    "label = Label(master,text =\"Encryption and Decryption Software\",style=\"BL.TLabel\" )\n",
    "\n",
    "label.pack(padx=100,pady = 140)\n",
    "\n",
    "\n",
    "# a button widget which will open a\n",
    "# new window on button click\n",
    "btn = Button(master,\n",
    "             text =\"Play Video File\",style=\"BW.TLabel\",command = Video)\n",
    "#btn.place(x=20,y=60)\n",
    "btn.pack(side=LEFT,padx=100,pady = 140)\n",
    " \n",
    "    \n",
    "btn1 = Button(master,\n",
    "             text =\"Play SecondVideo File\",style=\"BW.TLabel\",command = Videos2)\n",
    "#btn.place(x=20,y=60)\n",
    "btn1.pack(side=RIGHT,padx=100,pady = 140)\n",
    "\n",
    "# mainloop, runs infinitely\n",
    "mainloop()"
   ]
  }
 ],
 "metadata": {
  "kernelspec": {
   "display_name": "Python 3",
   "language": "python",
   "name": "python3"
  },
  "language_info": {
   "codemirror_mode": {
    "name": "ipython",
    "version": 3
   },
   "file_extension": ".py",
   "mimetype": "text/x-python",
   "name": "python",
   "nbconvert_exporter": "python",
   "pygments_lexer": "ipython3",
   "version": "3.7.4"
  }
 },
 "nbformat": 4,
 "nbformat_minor": 2
}
